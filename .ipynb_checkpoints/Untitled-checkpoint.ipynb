{
 "cells": [
  {
   "cell_type": "code",
   "execution_count": 1,
   "id": "6d3dfab0-298e-43d3-b653-c3e666766e5b",
   "metadata": {},
   "outputs": [],
   "source": [
    "from hashlib import sha1\n",
    "\n",
    "def compute_hash(email):\n",
    "    return sha1(email.encode('utf-8')).hexdigest()\n",
    "\n",
    "def compute_certificate_id(email):\n",
    "    email_clean = email.lower().strip()\n",
    "    return compute_hash(email_clean + '_')"
   ]
  },
  {
   "cell_type": "code",
   "execution_count": 3,
   "id": "15af7fbb-c93e-4eb5-95d6-4ad7f2ee89c7",
   "metadata": {},
   "outputs": [
    {
     "name": "stdout",
     "output_type": "stream",
     "text": [
      "https://certificate.datatalks.club/dezoomcamp/2024/d1e7b90546b163c2b8ea0c4ee477ca37a5407346.pdf\n"
     ]
    }
   ],
   "source": [
    "cohort = 2024\n",
    "course = 'dezoomcamp'\n",
    "your_id = compute_certificate_id('nsegun5@gmail.com')\n",
    "url = f\"https://certificate.datatalks.club/{course}/{cohort}/{your_id}.pdf\"\n",
    "print(url)"
   ]
  },
  {
   "cell_type": "code",
   "execution_count": null,
   "id": "d78f2717-0ec5-48c2-9a26-060387bf3208",
   "metadata": {},
   "outputs": [],
   "source": []
  }
 ],
 "metadata": {
  "kernelspec": {
   "display_name": "Python 3 (ipykernel)",
   "language": "python",
   "name": "python3"
  },
  "language_info": {
   "codemirror_mode": {
    "name": "ipython",
    "version": 3
   },
   "file_extension": ".py",
   "mimetype": "text/x-python",
   "name": "python",
   "nbconvert_exporter": "python",
   "pygments_lexer": "ipython3",
   "version": "3.12.2"
  }
 },
 "nbformat": 4,
 "nbformat_minor": 5
}
